{
 "cells": [
  {
   "cell_type": "code",
   "execution_count": 2,
   "metadata": {},
   "outputs": [
    {
     "name": "stdout",
     "output_type": "stream",
     "text": [
      "HelloJose\n"
     ]
    }
   ],
   "source": [
    "print(\"Hello \"+ input(\"What is your name?\" +\"!\"))\n"
   ]
  },
  {
   "cell_type": "markdown",
   "metadata": {},
   "source": [
    "Variables"
   ]
  },
  {
   "cell_type": "code",
   "execution_count": 6,
   "metadata": {},
   "outputs": [
    {
     "name": "stdout",
     "output_type": "stream",
     "text": [
      "jose\n"
     ]
    }
   ],
   "source": [
    "name = input(\"What is your name?\")\n",
    "\n",
    "print(name)"
   ]
  },
  {
   "cell_type": "code",
   "execution_count": 9,
   "metadata": {},
   "outputs": [
    {
     "name": "stdout",
     "output_type": "stream",
     "text": [
      "8326833309\n"
     ]
    }
   ],
   "source": [
    "jose = 8326833309 \n",
    "print(jose)"
   ]
  },
  {
   "cell_type": "markdown",
   "metadata": {},
   "source": [
    "Variables can change by re-programing the variable "
   ]
  },
  {
   "cell_type": "code",
   "execution_count": 13,
   "metadata": {},
   "outputs": [
    {
     "name": "stdout",
     "output_type": "stream",
     "text": [
      "jose\n",
      "4\n",
      "4\n",
      "4\n"
     ]
    }
   ],
   "source": [
    "name = input(\"What is your name?\")\n",
    "numofname = len(name)\n",
    "print( name)\n",
    "print(numofname)\n",
    "name = len(input(\"What is your name?\"))\n",
    "print(len(input(\"What is your name?\")))\n",
    "\n",
    "print(name)"
   ]
  },
  {
   "cell_type": "code",
   "execution_count": 17,
   "metadata": {},
   "outputs": [
    {
     "name": "stdout",
     "output_type": "stream",
     "text": [
      "12\n"
     ]
    }
   ],
   "source": [
    "username = input(\"What is your name?\")\n",
    "length = len(username)\n",
    "\n",
    "print(length)"
   ]
  },
  {
   "cell_type": "code",
   "execution_count": 23,
   "metadata": {},
   "outputs": [
    {
     "name": "stdout",
     "output_type": "stream",
     "text": [
      "juice\n",
      "milk\n"
     ]
    }
   ],
   "source": [
    "glass1 = \"milk\"\n",
    "glass2 = \"juice\" \n",
    "glass3 = \"milk\" \n",
    "glass1 = glass2\n",
    "glass2 = glass3\n",
    "print(glass1)\n",
    "print(glass2)"
   ]
  },
  {
   "cell_type": "markdown",
   "metadata": {},
   "source": [
    "DAY 3 \n",
    "\n",
    "if / else statement \n",
    "\n",
    "if condition: \n",
    "    do this\n",
    "else: \n",
    "    do this "
   ]
  },
  {
   "cell_type": "markdown",
   "metadata": {},
   "source": [
    "pizza flow chart\n",
    "https://viewer.diagrams.net/?target=blank&highlight=0000ff&edit=_blank&layers=1&nav=1&title=Rollercoaster%201#R1VfbcpswEP0apk%2FJAAJfHmM7aR%2FSjlt3ps2jYm1ArUCukC%2Fk67sywqDgJM7Eub0w6Ggl7Z49uwKPjLPNZ0UX6VfJQHihzzYemXhhOIhCfBqgrICIkApIFGcVFDTAjN%2BCBX2LLjmDwjHUUgrNFy44l3kOc%2B1gVCm5ds1upHBPXdAEOsBsTkUX%2FcWZTm1YYb%2FBvwBP0vrkoDesZjJaG9tIipQyuW5B5NwjYyWlrt6yzRiE4a7mpVp3cc%2FszjEFuT5kwTQf3Pz8rmYwjVc%2FVmxzyf%2FJExtGocs6YGAYvx1KpVOZyJyK8wYdKbnMGZhdfRw1NpdSLhAMEPwDWpc2mXSpJUKpzoSdRYdV%2BdusP%2B2RsAauEDjxT%2F1%2BXCOTjT2jGpXt0RQUz0CDsmAVh3H%2BXnosVMilmsMDnNQyoyoB%2FYBdvEsiih8keqNKXKdAUM1Xrh%2FUyjDZ2dmlZ0rRsmWwkDzXRWvnqQHQwBYUIbagbD0FcdzOOr5UO9ajlmsNtFXGE1QyfGOVREHUVon%2FQQQSHUMgHQUEkSuAoe%2FuULllFzXKeKrQer3X15nlYkXF0rJje6tpbT2aoXBGid4m0w%2Bw52ceuehIU6Uyu15ilKN1yjXMFnSbzDVeT67A7GGgNGwe1kQ3h%2FWCoO%2ByVF9b6%2BauCHoWS1v3xN2ktdPe4vjpFJK3KNUj1lZ4YG3dk5eDa%2BtZJIcdnc7QYd2V4o7Y4HE53nAhxlJItV1LWAwDZtpeoZX8C62ZQXhNsDqPI2DiCjjco99wj36jl9Jv1KF2TPNPpgPg5yE8j%2BEj8EV8l6499T7ovyJd8T663gtZYb%2F%2Fvtiqz2%2FR9U12aMKAtcsFFTzJ8X2OgZsPipGhheNPwpmdyDhjVSuFgt%2FS6%2B1WppnaWxb3jUdePDF7YfcsqkZ6JJoHd%2B4gMuywTPaUcPhiLHev8SsoPjzN%2BC%2F7KM%2FRcXjGYfNfWH1cNT%2FX5Pw%2F#%7B%22pageId%22%3A%22JI7bshOHrfyucewq4mpb%22%7D"
   ]
  },
  {
   "cell_type": "code",
   "execution_count": 29,
   "metadata": {},
   "outputs": [
    {
     "name": "stdout",
     "output_type": "stream",
     "text": [
      "Welcome to the roller coster!\n",
      "go ahead, have fun!\n"
     ]
    }
   ],
   "source": [
    "print(\"Welcome to the roller coster!\")\n",
    "height = int(input(\"What is your height?\"))\n",
    "\n",
    "if height >= 120:\n",
    "    print(\"go ahead, have fun!\")\n",
    "else:\n",
    "    print(\"grow taller brah!\")"
   ]
  },
  {
   "cell_type": "markdown",
   "metadata": {},
   "source": [
    "MODULO  --- % ----"
   ]
  },
  {
   "cell_type": "code",
   "execution_count": 41,
   "metadata": {},
   "outputs": [
    {
     "name": "stdout",
     "output_type": "stream",
     "text": [
      "This is an even number\n"
     ]
    }
   ],
   "source": [
    "number_to_check = int(input(\"what is the number you want to check? \"))\n",
    "\n",
    "if number_to_check % 2 == 0:\n",
    "    print(\"This is an even number\")\n",
    "else:\n",
    "    print(\"This is an odd number\")\n",
    "\n",
    "\n"
   ]
  },
  {
   "cell_type": "markdown",
   "metadata": {},
   "source": [
    "Nested if statements and elif statements\n",
    "\n",
    "if conditions: \n",
    "    if another condition: \n",
    "        do this\n",
    "    else:\n",
    "        do this\n",
    "else:\n",
    "    do this "
   ]
  },
  {
   "cell_type": "code",
   "execution_count": 53,
   "metadata": {},
   "outputs": [
    {
     "name": "stdout",
     "output_type": "stream",
     "text": [
      "You can ride!!!\n",
      "Cost is $7.00\n"
     ]
    }
   ],
   "source": [
    "height = int(input(\"What is your height? \"))\n",
    "\n",
    "if height >= 120:\n",
    "    print(\"You can ride!!!\")\n",
    "    age = int(input(\"What is your age? \"))\n",
    "    if age <= 12:\n",
    "        print(\"Cost is $5.00\")\n",
    "    elif age <= 18:\n",
    "        print(\"Cost is $7.00\")\n",
    "    else:\n",
    "        print(\"your cost is $12.00\")\n",
    "else:\n",
    "    print(\"Sorry you can't ride\")"
   ]
  },
  {
   "cell_type": "markdown",
   "metadata": {},
   "source": [
    "BMI Calculator with Interpretations\n",
    "\n",
    "Add some if/elif/else statements to the BMI calculator so that it interprets the BMI values calculated.\n",
    "\n",
    "If the bmi is under 18.5 (not including), print out \"underweight\"\n",
    "\n",
    "If the bmi is between 18.5 (including) and 25 (not including), print out \"normal weight\"\n",
    "\n",
    "If the bmi is 25 (including) or over, print out \"overweight\"\n",
    "\n",
    "Refer to this graphic for help:"
   ]
  },
  {
   "cell_type": "code",
   "execution_count": 77,
   "metadata": {},
   "outputs": [
    {
     "name": "stdout",
     "output_type": "stream",
     "text": [
      "29.218407596785973\n",
      "You are super fat, and overweight!!! go run!!!\n"
     ]
    }
   ],
   "source": [
    "weight = 100\n",
    "height = 1.85\n",
    "\n",
    "bmi = weight / (height**2)\n",
    "\n",
    "print(bmi)\n",
    "\n",
    "if bmi < 18.5:\n",
    "    print(\"You are underweight need to gain some weight.\")\n",
    "elif bmi >= 25:\n",
    "    print(\"You are super fat, and overweight!!! go run!!!\")\n",
    "else: \n",
    "    print(\"you are normal weight, great job!!!\")\n",
    "\n",
    "\n"
   ]
  },
  {
   "cell_type": "markdown",
   "metadata": {},
   "source": [
    "25. Multiple \"if\" statements in succession"
   ]
  },
  {
   "cell_type": "code",
   "execution_count": 88,
   "metadata": {},
   "outputs": [
    {
     "name": "stdout",
     "output_type": "stream",
     "text": [
      "Welcome to the rollor coster ride.\n",
      "You can ride!!!\n",
      "Adult ticket cost is $12.00\n",
      "Your final bill is $15\n"
     ]
    }
   ],
   "source": [
    "print(\"Welcome to the rollor coster ride.\")\n",
    "height = int(input(\"What is your height? \"))\n",
    "bill = 0\n",
    "if height >= 120:\n",
    "    print(\"You can ride!!!\")\n",
    "    age = int(input(\"What is your age? \"))\n",
    "    if age <= 12:\n",
    "        bill = 5\n",
    "        print(\"Child ticket cost is $5.00\")\n",
    "    elif age <= 18:\n",
    "        bill = 7\n",
    "        print(\"Youth ticket cost is $7.00\")\n",
    "    else:\n",
    "        bill = 12\n",
    "        print(\"Adult ticket cost is $12.00\")\n",
    "    wants_photo = input(\"Do you want to have a photo take? Type y for Yes and n for No.\")\n",
    "    if wants_photo == \"y\":\n",
    "        # add $3 to the bill \n",
    "        bill = bill + 3\n",
    "    \n",
    "    print(f\"Your final bill is ${bill}\")\n",
    "else:\n",
    "    print(\"Sorry you can't ride\")"
   ]
  },
  {
   "cell_type": "markdown",
   "metadata": {},
   "source": [
    "Python Pizza \n",
    "write a pizza deliver program \n",
    "congratulation, you've got a job at Python Pizza! Your first job is to build an automatic pizza order program. \n",
    "\n",
    "Based on a user's order, work out their final bill. Use the input() function to get a user's preferences and then addup the total for their order and tell them how much they have to pay. "
   ]
  },
  {
   "cell_type": "code",
   "execution_count": 91,
   "metadata": {},
   "outputs": [
    {
     "name": "stdout",
     "output_type": "stream",
     "text": [
      "Welcome to my pizza place!\n"
     ]
    }
   ],
   "source": [
    "print(\"Welcome to my pizza place!\")\n"
   ]
  }
 ],
 "metadata": {
  "kernelspec": {
   "display_name": ".venv",
   "language": "python",
   "name": "python3"
  },
  "language_info": {
   "codemirror_mode": {
    "name": "ipython",
    "version": 3
   },
   "file_extension": ".py",
   "mimetype": "text/x-python",
   "name": "python",
   "nbconvert_exporter": "python",
   "pygments_lexer": "ipython3",
   "version": "3.12.1"
  }
 },
 "nbformat": 4,
 "nbformat_minor": 2
}
